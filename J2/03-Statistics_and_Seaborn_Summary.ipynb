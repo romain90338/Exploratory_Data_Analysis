{
 "cells": [
  {
   "cell_type": "markdown",
   "metadata": {},
   "source": [
    "## Descriptive Statistics and Data Visualization\n",
    "\n",
    "\n",
    "### The essentials\n",
    "\n",
    "\n",
    "## Every statistical study has a purpose ##\n",
    "\n",
    "Whether we are talking about a study on employee salaries in France or the collection of medical data on tumours, the data collected for statistical studies always have an objective: we want to demonstrate or understand something through the data.\n",
    "\n",
    "Descriptive statistics and visualization are simple and very effective tools for understanding the data before your eyes. This allows you to focus your efforts: for example, if you are interested in data on wages, you will try to understand how wages are distributed in the population and then try to understand which group of individuals is in which wage bracket.\n",
    "\n",
    "\n",
    "## Not all variables are as important as others\n",
    "\n",
    "Each database is built for a specific purpose, and in fact, not all measured variables are equally important. In the examples given above, variables such as salary or the malignant or benign aspect of a tumour are very important: their impact on the phenomenon being studied is crucial and obvious. Other variables are there to explain their behaviour.\n",
    "\n",
    "\n",
    "## Start with a global overview of your data\n",
    "\n",
    "The `.describe()` command from pandas is ideal for this task, it will give you all the descriptive statistics about your quantitative variables: you will have an idea of the center, variations and scale of your quantitative variables.\n",
    "\n",
    "For qualitative variables, use the `.value_counts()` command.\n",
    "\n",
    "\n",
    "## Continue with bivariate analyses using the most important variable\n",
    "\n",
    "This will allow you to understand what characterizes individuals for whom the most important variable takes on a particular value.\n",
    "\n",
    "\n",
    "## Be concise and simple\n",
    "\n",
    "Choose a few key figures and the clearest and most meaningful visualisations possible, so you can concentrate on the most essential information."
   ]
  }
 ],
 "metadata": {
  "language_info": {
   "codemirror_mode": {
    "name": "ipython",
    "version": 3
   },
   "file_extension": ".py",
   "mimetype": "text/x-python",
   "name": "python",
   "nbconvert_exporter": "python",
   "pygments_lexer": "ipython3",
   "version": 3
  },
  "orig_nbformat": 2
 },
 "nbformat": 4,
 "nbformat_minor": 2
}
