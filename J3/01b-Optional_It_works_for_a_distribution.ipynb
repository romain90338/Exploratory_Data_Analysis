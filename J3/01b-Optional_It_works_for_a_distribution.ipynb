{
 "cells": [
  {
   "cell_type": "markdown",
   "metadata": {
    "colab_type": "text",
    "id": "nn7xjEIrUmM0"
   },
   "source": [
    "# Mathematics Reviews - Linear Algebra & Probability\n",
    "\n",
    "## Probability distributions and Central Limit Theorem\n",
    "\n",
    "\n",
    "### Exercice : _It works for a distribution?_"
   ]
  },
  {
   "cell_type": "markdown",
   "metadata": {
    "colab_type": "text",
    "id": "jr7R-B_-UrYg"
   },
   "source": [
    "1. Import numpy, seaborn, pandas, and matplotlib.pyplot"
   ]
  },
  {
   "cell_type": "code",
   "execution_count": 1,
   "metadata": {
    "colab": {},
    "colab_type": "code",
    "id": "uWsOyJnuUbH_"
   },
   "outputs": [],
   "source": []
  },
  {
   "cell_type": "markdown",
   "metadata": {
    "colab_type": "text",
    "id": "-8UnwJ5SUyzy"
   },
   "source": [
    "2. Find a numpy function to draw random numbers that follow an exponential probability distribution"
   ]
  },
  {
   "cell_type": "markdown",
   "metadata": {
    "colab_type": "text",
    "id": "a6rjzM9eU9mW"
   },
   "source": [
    "3. Use this method to draw 5000 numbers"
   ]
  },
  {
   "cell_type": "code",
   "execution_count": 3,
   "metadata": {
    "colab": {
     "base_uri": "https://localhost:8080/",
     "height": 51
    },
    "colab_type": "code",
    "id": "IfEAMWGaU1--",
    "outputId": "8aa2dbdf-8895-42a1-c08a-6a0ce5b1974a"
   },
   "outputs": [
    {
     "data": {
      "text/plain": [
       "array([1.57583107, 1.42306348, 0.26910021, 0.53892358, 2.50581807,\n",
       "       1.9989693 , 2.33467856, 0.85217323, 1.41954437, 0.711531  ])"
      ]
     },
     "execution_count": 3,
     "metadata": {},
     "output_type": "execute_result"
    }
   ],
   "source": []
  },
  {
   "cell_type": "markdown",
   "metadata": {
    "colab_type": "text",
    "id": "4LOjP0BZVD1i"
   },
   "source": [
    "4. Visualize the distribution of the 5000 random numbers"
   ]
  },
  {
   "cell_type": "code",
   "execution_count": 4,
   "metadata": {
    "colab": {
     "base_uri": "https://localhost:8080/",
     "height": 282
    },
    "colab_type": "code",
    "id": "nBNooG7RU-hx",
    "outputId": "211d131c-fe8a-494f-e5b1-9d1ab0f76959"
   },
   "outputs": [
    {
     "data": {
      "text/plain": [
       "<matplotlib.axes._subplots.AxesSubplot at 0x7f0610332670>"
      ]
     },
     "execution_count": 4,
     "metadata": {},
     "output_type": "execute_result"
    },
    {
     "data": {
      "image/png": "[encoded data removed]",
      "text/plain": [
       "<Figure size 432x288 with 1 Axes>"
      ]
     },
     "metadata": {
      "needs_background": "light"
     },
     "output_type": "display_data"
    }
   ],
   "source": []
  },
  {
   "cell_type": "markdown",
   "metadata": {
    "colab_type": "text",
    "id": "nNKTywl0VHjX"
   },
   "source": [
    "5. Find a numpy function that separates a numpy array into \n",
    "several numpy arrays"
   ]
  },
  {
   "cell_type": "markdown",
   "metadata": {
    "colab_type": "text",
    "id": "bhqowDgxVLNz"
   },
   "source": [
    "6. Split your sample into 1000 samples (then, each sample contains 5 random numbers)"
   ]
  },
  {
   "cell_type": "code",
   "execution_count": 6,
   "metadata": {
    "colab": {
     "base_uri": "https://localhost:8080/",
     "height": 102
    },
    "colab_type": "code",
    "id": "78HqVaulVJdU",
    "outputId": "24d09502-3af6-42c2-c956-9496833d82c7"
   },
   "outputs": [
    {
     "data": {
      "text/plain": [
       "[array([1.57583107, 1.42306348, 0.26910021, 0.53892358, 2.50581807]),\n",
       " array([1.9989693 , 2.33467856, 0.85217323, 1.41954437, 0.711531  ]),\n",
       " array([0.97776821, 0.03207165, 2.14784983, 0.06855598, 0.19436851]),\n",
       " array([2.3339915 , 0.32875413, 4.55541717, 1.10003641, 0.00533725]),\n",
       " array([0.07692768, 0.76821705, 0.88015201, 1.54343562, 0.54021528])]"
      ]
     },
     "execution_count": 6,
     "metadata": {},
     "output_type": "execute_result"
    }
   ],
   "source": []
  },
  {
   "cell_type": "markdown",
   "metadata": {
    "colab_type": "text",
    "id": "JR0O_zJdVOv4"
   },
   "source": [
    "7. Generate a list that contains the 1000 averages of your 1000 samples"
   ]
  },
  {
   "cell_type": "code",
   "execution_count": 7,
   "metadata": {
    "colab": {},
    "colab_type": "code",
    "id": "ULXefZ_nVNW-"
   },
   "outputs": [],
   "source": []
  },
  {
   "cell_type": "code",
   "execution_count": null,
   "metadata": {
    "colab": {},
    "colab_type": "code",
    "id": "-PJCQyY_yB6S"
   },
   "outputs": [],
   "source": []
  },
  {
   "cell_type": "markdown",
   "metadata": {
    "colab_type": "text",
    "id": "mwNRYgTAVSW9"
   },
   "source": [
    "8. Visualize the distribution of your sample of 1000 averages"
   ]
  },
  {
   "cell_type": "code",
   "execution_count": 8,
   "metadata": {
    "colab": {
     "base_uri": "https://localhost:8080/",
     "height": 282
    },
    "colab_type": "code",
    "id": "WTdr7_1WVQ8E",
    "outputId": "a7eb2b5d-3a33-4cac-dc79-0301168c6969"
   },
   "outputs": [
    {
     "data": {
      "text/plain": [
       "<matplotlib.axes._subplots.AxesSubplot at 0x7f05e5d76100>"
      ]
     },
     "execution_count": 8,
     "metadata": {},
     "output_type": "execute_result"
    },
    {
     "data": {
      "image/png": "[encoded data removed]",
      "text/plain": [
       "<Figure size 432x288 with 1 Axes>"
      ]
     },
     "metadata": {
      "needs_background": "light"
     },
     "output_type": "display_data"
    }
   ],
   "source": []
  },
  {
   "cell_type": "markdown",
   "metadata": {
    "colab_type": "text",
    "id": "ojandwl0VWjX"
   },
   "source": [
    "9. Now calculate the mean and standard deviation of this distribution using numpy's functions"
   ]
  },
  {
   "cell_type": "code",
   "execution_count": 9,
   "metadata": {
    "colab": {},
    "colab_type": "code",
    "id": "OhCJp90zVTss"
   },
   "outputs": [],
   "source": []
  },
  {
   "cell_type": "markdown",
   "metadata": {
    "colab_type": "text",
    "id": "8dQJvT7ZVbTt"
   },
   "source": [
    "10. Find a numpy function that allows to draw random numbers from a normal distribution"
   ]
  },
  {
   "cell_type": "markdown",
   "metadata": {
    "colab_type": "text",
    "id": "TUJt5XrAVdzU"
   },
   "source": [
    "11. Generate an array of 1000 simulations from a normal distribution with \n",
    "parameters correspond to the mean and standard deviation of the previous distribution"
   ]
  },
  {
   "cell_type": "code",
   "execution_count": 11,
   "metadata": {
    "colab": {
     "base_uri": "https://localhost:8080/",
     "height": 34
    },
    "colab_type": "code",
    "id": "jkMkL5quVZr7",
    "outputId": "59b26025-d375-4032-a3a7-d7adbd217224"
   },
   "outputs": [
    {
     "data": {
      "text/plain": [
       "array([2.08206329, 1.26979074, 1.32397154, 0.72162979, 0.75567955])"
      ]
     },
     "execution_count": 11,
     "metadata": {},
     "output_type": "execute_result"
    }
   ],
   "source": []
  },
  {
   "cell_type": "markdown",
   "metadata": {
    "colab_type": "text",
    "id": "GE7znt15VgN9"
   },
   "source": [
    "12. Visualize in the same graph the distribution of your sample \n",
    "of means as well as the distribution of your normal distribution simulations."
   ]
  },
  {
   "cell_type": "code",
   "execution_count": 12,
   "metadata": {
    "colab": {
     "base_uri": "https://localhost:8080/",
     "height": 265
    },
    "colab_type": "code",
    "id": "-0zcoigYVe20",
    "outputId": "b761d437-2e42-49f4-a21f-dedae598b9a6"
   },
   "outputs": [
    {
     "data": {
      "image/png": "[encoded data removed]",
      "text/plain": [
       "<Figure size 432x288 with 1 Axes>"
      ]
     },
     "metadata": {
      "needs_background": "light"
     },
     "output_type": "display_data"
    }
   ],
   "source": []
  },
  {
   "cell_type": "markdown",
   "metadata": {
    "colab_type": "text",
    "id": "Um1AdbTrVoxZ"
   },
   "source": [
    "13. What do you see?"
   ]
  },
  {
   "cell_type": "markdown",
   "metadata": {
    "colab_type": "text",
    "id": "uprXnYAkVsq5"
   },
   "source": [
    "14. Gradually increase the number of simulations from the law \n",
    "exponential in order to obtain larger samples and repeat the \n",
    "past operations"
   ]
  },
  {
   "cell_type": "code",
   "execution_count": 13,
   "metadata": {
    "colab": {
     "base_uri": "https://localhost:8080/",
     "height": 521
    },
    "colab_type": "code",
    "id": "YyZqoAjvVh1A",
    "outputId": "60773904-e321-4f81-f442-669960c75d28"
   },
   "outputs": [
    {
     "data": {
      "image/png": "[encoded data removed]",
      "text/plain": [
       "<Figure size 432x288 with 1 Axes>"
      ]
     },
     "metadata": {
      "needs_background": "light"
     },
     "output_type": "display_data"
    },
    {
     "data": {
      "image/png": "[encoded data removed]",
      "text/plain": [
       "<Figure size 432x288 with 1 Axes>"
      ]
     },
     "metadata": {
      "needs_background": "light"
     },
     "output_type": "display_data"
    }
   ],
   "source": []
  },
  {
   "cell_type": "markdown",
   "metadata": {
    "colab_type": "text",
    "id": "GuK8amXfVxSz"
   },
   "source": [
    "15. Do you see any changes in the distribution of means?"
   ]
  },
  {
   "cell_type": "markdown",
   "metadata": {
    "colab_type": "text",
    "id": "ixNVLfjmV08Z"
   },
   "source": [
    "16. Does it remind you of a theorem seen in class?"
   ]
  }
 ],
 "metadata": {
  "colab": {
   "collapsed_sections": [],
   "name": "Ca marche pour une loi ? - Exercice SOLUTION.ipynb",
   "provenance": []
  },
  "kernelspec": {
   "display_name": "Python 3",
   "language": "python",
   "name": "python3"
  },
  "language_info": {
   "codemirror_mode": {
    "name": "ipython",
    "version": 3
   },
   "file_extension": ".py",
   "mimetype": "text/x-python",
   "name": "python",
   "nbconvert_exporter": "python",
   "pygments_lexer": "ipython3",
   "version": "3.8.8"
  }
 },
 "nbformat": 4,
 "nbformat_minor": 4
}
